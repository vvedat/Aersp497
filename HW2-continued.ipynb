{
 "cells": [
  {
   "cell_type": "code",
   "execution_count": 1,
   "id": "e9282a5f-e0b6-4b38-b64d-cf1426e9d40e",
   "metadata": {},
   "outputs": [],
   "source": [
    "import math\n",
    "import numpy as np\n",
    "from numpy import linalg\n",
    "import torch\n",
    "from torch import tensor\n",
    "from torch.autograd.functional import jacobian, hessian\n",
    "pi=math.pi"
   ]
  },
  {
   "cell_type": "code",
   "execution_count": 2,
   "id": "77f90b36-1e1f-493c-a640-5d20fd164d36",
   "metadata": {},
   "outputs": [],
   "source": [
    "# takes in tensors\n",
    "BraninHoo = lambda x: (x[...,1] - (5.1*x[...,0]**2/4/pi/pi) +(5*x[...,0]/pi)-6)**2 + (10-10/8/pi)*torch.cos(x[...,0])+10\n",
    "rosenbrock = lambda x: 100*(x[...,1] - x[...,0]**2)**2 + (x[...,0]-1)**2\n",
    "\n",
    "# accepts tensor and int\n",
    "def Branin(x0,x1):\n",
    "    return (x1 - (5.1*x0**2/4/pi/pi) +(5*x0/pi)-6)**2 + (10-10/8/pi)*np.cos(x0)+10\n",
    "\n",
    "def rosen(x0,x1):\n",
    "    return 100*(x1 - x0**2)**2 + (x0-1)**2\n",
    "\n"
   ]
  },
  {
   "cell_type": "code",
   "execution_count": 35,
   "id": "2d1f801b-e6d3-4782-9a9c-6669dcb70e7a",
   "metadata": {},
   "outputs": [
    {
     "data": {
      "text/plain": [
       "43"
      ]
     },
     "execution_count": 35,
     "metadata": {},
     "output_type": "execute_result"
    }
   ],
   "source": [
    "round(100/2.3)\n"
   ]
  },
  {
   "cell_type": "code",
   "execution_count": 29,
   "id": "82d47527-8b79-4ed5-93f3-72e8077cfe67",
   "metadata": {},
   "outputs": [],
   "source": [
    "def backtrack(x,fun,grad, pk,a, type=\"firstwolfe\"):\n",
    "    # computations: grad, functionx2\n",
    "    \n",
    "    c1=.3\n",
    "    c2=.75\n",
    "    rho=.9\n",
    "    grad_dot_pk=torch.dot(grad,pk)\n",
    "    iter=0\n",
    "    if type == \"firstwolfe\":\n",
    "        while fun(x+a*pk)>=fun(x)+c1*a*grad_dot_pk: # first wolfe\n",
    "            a*=rho\n",
    "            iter+=1\n",
    "            if iter%20=0:\n",
    "                a=\n",
    "            if iter>100:\n",
    "                break\n",
    "            \"\"\"\n",
    "            print('first alpha')\n",
    "            print(a)\n",
    "            print(f'function{fun(x+a*pk)}')\n",
    "            print(f'function next: {fun(x)+c1*a*grad_dot_pk}')\n",
    "            \"\"\"\n",
    "            \n",
    "            \n",
    "        \n",
    "    elif type == \"fullwolfe\":\n",
    "        while fun(x+a*pk)>=fun(x)+c1*a*grad_dot_pk: # first wolfe\n",
    "            a*=rho\n",
    "            #print('first alpha')\n",
    "            #print(a)\n",
    "            iter+=1\n",
    "            if iter>20:\n",
    "                break\n",
    "        iter=0\n",
    "        while torch.dot(jacobian(fun, x+a*pk), pk) <= c2*grad_dot_pk:\n",
    "            a/=rho\n",
    "            #print('second alpha')\n",
    "            #print(a)\n",
    "            iter+=1\n",
    "            if iter>20:\n",
    "                break\n",
    "                \n",
    "    elif type == \"strongwolfe\":\n",
    "        while fun(x+a*pk)>=fun(x)+c1*a*grad_dot_pk: # first wolfe\n",
    "            a*=rho\n",
    "            iter+=1\n",
    "            if iter>20:\n",
    "                break\n",
    "        iter=0\n",
    "        while torch.dot(jacobian(fun, x+a*pk), pk) <= c2*grad_dot_pk:\n",
    "            a/=rho\n",
    "            #print(\"full in strong wolfe\")\n",
    "            iter+=1\n",
    "            if iter>20:\n",
    "                break\n",
    "        iter=0\n",
    "        while abs(torch.dot(jacobian(fun, x+a*pk), pk)) >= abs(c2*grad_dot_pk):\n",
    "            a*=rho\n",
    "            #print(\"strong in strong wolfe\")\n",
    "            iter+=1\n",
    "            if iter>20:\n",
    "                break\n",
    "                \n",
    "    elif type == \"interpolation\":\n",
    "        while fun(x+a*pk)>=fun(x)+c1*a*grad_dot_pk: # first wolfe\n",
    "            alpha = (-grad*a**2)/(fun(a-fun(x)-a*grad))\n",
    "    else:\n",
    "        print(\"wrong criteria type\")\n",
    "\n",
    "    return a\n"
   ]
  },
  {
   "cell_type": "code",
   "execution_count": 30,
   "id": "e9864ed2-f356-4d62-b73c-eb4d48d50c54",
   "metadata": {},
   "outputs": [
    {
     "name": "stdout",
     "output_type": "stream",
     "text": [
      "500 2.5e-323\n",
      "500 tensor([-0.0001,  0.0010])\n",
      "500 tensor(0.0010)\n",
      "1000 2.5e-323\n",
      "1000 tensor([-0.0001,  0.0010])\n",
      "1000 tensor(0.0010)\n",
      "1500 2.5e-323\n",
      "1500 tensor([-0.0001,  0.0010])\n",
      "1500 tensor(0.0010)\n",
      "2000 2.5e-323\n",
      "2000 tensor([-0.0001,  0.0010])\n",
      "2000 tensor(0.0010)\n",
      "2500 2.5e-323\n",
      "2500 tensor([-0.0001,  0.0010])\n",
      "2500 tensor(0.0010)\n",
      "3000 2.5e-323\n",
      "3000 tensor([-0.0001,  0.0010])\n",
      "3000 tensor(0.0010)\n"
     ]
    },
    {
     "ename": "KeyboardInterrupt",
     "evalue": "",
     "output_type": "error",
     "traceback": [
      "\u001b[1;31m---------------------------------------------------------------------------\u001b[0m",
      "\u001b[1;31mKeyboardInterrupt\u001b[0m                         Traceback (most recent call last)",
      "Input \u001b[1;32mIn [30]\u001b[0m, in \u001b[0;36m<cell line: 35>\u001b[1;34m()\u001b[0m\n\u001b[0;32m     32\u001b[0m     \u001b[38;5;28mprint\u001b[39m(\u001b[38;5;124mf\u001b[39m\u001b[38;5;124m'\u001b[39m\u001b[38;5;124mminimizer: \u001b[39m\u001b[38;5;132;01m{\u001b[39;00mx\u001b[38;5;132;01m}\u001b[39;00m\u001b[38;5;124m'\u001b[39m)\n\u001b[0;32m     33\u001b[0m     \u001b[38;5;28mprint\u001b[39m(\u001b[38;5;124mf\u001b[39m\u001b[38;5;124m'\u001b[39m\u001b[38;5;124mfunction value: \u001b[39m\u001b[38;5;132;01m{\u001b[39;00mf(x)\u001b[38;5;132;01m}\u001b[39;00m\u001b[38;5;124m'\u001b[39m)\n\u001b[1;32m---> 35\u001b[0m \u001b[43mline_search\u001b[49m\u001b[43m(\u001b[49m\u001b[43m[\u001b[49m\u001b[38;5;241;43m6\u001b[39;49m\u001b[43m,\u001b[49m\u001b[38;5;241;43m10\u001b[39;49m\u001b[43m]\u001b[49m\u001b[43m,\u001b[49m\u001b[43m \u001b[49m\u001b[43mBraninHoo\u001b[49m\u001b[43m,\u001b[49m\u001b[43m \u001b[49m\u001b[43mstop\u001b[49m\u001b[43m,\u001b[49m\u001b[38;5;241;43m1\u001b[39;49m\u001b[43m)\u001b[49m\n\u001b[0;32m     36\u001b[0m line_search([\u001b[38;5;241m6\u001b[39m,\u001b[38;5;241m10\u001b[39m], BraninHoo, stop,\u001b[38;5;241m1\u001b[39m, \u001b[38;5;124m\"\u001b[39m\u001b[38;5;124mfullwolfe\u001b[39m\u001b[38;5;124m\"\u001b[39m)\n\u001b[0;32m     37\u001b[0m line_search([\u001b[38;5;241m6\u001b[39m,\u001b[38;5;241m10\u001b[39m], BraninHoo, stop,\u001b[38;5;241m1\u001b[39m, \u001b[38;5;124m\"\u001b[39m\u001b[38;5;124mstrongwolfe\u001b[39m\u001b[38;5;124m\"\u001b[39m)\n",
      "Input \u001b[1;32mIn [30]\u001b[0m, in \u001b[0;36mline_search\u001b[1;34m(x_0, f, stop, a, type)\u001b[0m\n\u001b[0;32m     21\u001b[0m \u001b[38;5;66;03m#grad = grad.numpy(), to nparray\u001b[39;00m\n\u001b[0;32m     22\u001b[0m pk \u001b[38;5;241m=\u001b[39m \u001b[38;5;241m-\u001b[39mgrad\u001b[38;5;241m/\u001b[39mgrad_norm\n\u001b[1;32m---> 23\u001b[0m a \u001b[38;5;241m=\u001b[39m \u001b[43mbacktrack\u001b[49m\u001b[43m(\u001b[49m\u001b[43mx\u001b[49m\u001b[43m,\u001b[49m\u001b[43m \u001b[49m\u001b[43mf\u001b[49m\u001b[43m,\u001b[49m\u001b[43mgrad\u001b[49m\u001b[43m,\u001b[49m\u001b[43mpk\u001b[49m\u001b[43m,\u001b[49m\u001b[43ma\u001b[49m\u001b[43m,\u001b[49m\u001b[43m \u001b[49m\u001b[38;5;28;43mtype\u001b[39;49m\u001b[43m)\u001b[49m\n\u001b[0;32m     24\u001b[0m \u001b[38;5;66;03m#print(pk,a)\u001b[39;00m\n\u001b[0;32m     25\u001b[0m x\u001b[38;5;241m=\u001b[39mx\u001b[38;5;241m+\u001b[39mpk\u001b[38;5;241m*\u001b[39ma\n",
      "Input \u001b[1;32mIn [29]\u001b[0m, in \u001b[0;36mbacktrack\u001b[1;34m(x, fun, grad, pk, a, type)\u001b[0m\n\u001b[0;32m      8\u001b[0m \u001b[38;5;28miter\u001b[39m\u001b[38;5;241m=\u001b[39m\u001b[38;5;241m0\u001b[39m\n\u001b[0;32m      9\u001b[0m \u001b[38;5;28;01mif\u001b[39;00m \u001b[38;5;28mtype\u001b[39m \u001b[38;5;241m==\u001b[39m \u001b[38;5;124m\"\u001b[39m\u001b[38;5;124mfirstwolfe\u001b[39m\u001b[38;5;124m\"\u001b[39m:\n\u001b[1;32m---> 10\u001b[0m     \u001b[38;5;28;01mwhile\u001b[39;00m \u001b[43mfun\u001b[49m\u001b[43m(\u001b[49m\u001b[43mx\u001b[49m\u001b[38;5;241;43m+\u001b[39;49m\u001b[43ma\u001b[49m\u001b[38;5;241;43m*\u001b[39;49m\u001b[43mpk\u001b[49m\u001b[43m)\u001b[49m\u001b[38;5;241m>\u001b[39m\u001b[38;5;241m=\u001b[39mfun(x)\u001b[38;5;241m+\u001b[39mc1\u001b[38;5;241m*\u001b[39ma\u001b[38;5;241m*\u001b[39mgrad_dot_pk: \u001b[38;5;66;03m# first wolfe\u001b[39;00m\n\u001b[0;32m     11\u001b[0m         a\u001b[38;5;241m*\u001b[39m\u001b[38;5;241m=\u001b[39mrho\n\u001b[0;32m     12\u001b[0m         \u001b[38;5;28miter\u001b[39m\u001b[38;5;241m+\u001b[39m\u001b[38;5;241m=\u001b[39m\u001b[38;5;241m1\u001b[39m\n",
      "Input \u001b[1;32mIn [2]\u001b[0m, in \u001b[0;36m<lambda>\u001b[1;34m(x)\u001b[0m\n\u001b[0;32m      1\u001b[0m \u001b[38;5;66;03m# takes in tensors\u001b[39;00m\n\u001b[1;32m----> 2\u001b[0m BraninHoo \u001b[38;5;241m=\u001b[39m \u001b[38;5;28;01mlambda\u001b[39;00m x: (x[\u001b[38;5;241m.\u001b[39m\u001b[38;5;241m.\u001b[39m\u001b[38;5;241m.\u001b[39m,\u001b[38;5;241m1\u001b[39m] \u001b[38;5;241m-\u001b[39m (\u001b[38;5;241m5.1\u001b[39m\u001b[38;5;241m*\u001b[39mx[\u001b[38;5;241m.\u001b[39m\u001b[38;5;241m.\u001b[39m\u001b[38;5;241m.\u001b[39m,\u001b[38;5;241m0\u001b[39m]\u001b[38;5;241m*\u001b[39m\u001b[38;5;241m*\u001b[39m\u001b[38;5;241m2\u001b[39m\u001b[38;5;241m/\u001b[39m\u001b[38;5;241m4\u001b[39m\u001b[38;5;241m/\u001b[39mpi\u001b[38;5;241m/\u001b[39mpi) \u001b[38;5;241m+\u001b[39m(\u001b[38;5;241;43m5\u001b[39;49m\u001b[38;5;241;43m*\u001b[39;49m\u001b[43mx\u001b[49m\u001b[43m[\u001b[49m\u001b[38;5;241;43m.\u001b[39;49m\u001b[38;5;241;43m.\u001b[39;49m\u001b[38;5;241;43m.\u001b[39;49m\u001b[43m,\u001b[49m\u001b[38;5;241;43m0\u001b[39;49m\u001b[43m]\u001b[49m\u001b[38;5;241m/\u001b[39mpi)\u001b[38;5;241m-\u001b[39m\u001b[38;5;241m6\u001b[39m)\u001b[38;5;241m*\u001b[39m\u001b[38;5;241m*\u001b[39m\u001b[38;5;241m2\u001b[39m \u001b[38;5;241m+\u001b[39m (\u001b[38;5;241m10\u001b[39m\u001b[38;5;241m-\u001b[39m\u001b[38;5;241m10\u001b[39m\u001b[38;5;241m/\u001b[39m\u001b[38;5;241m8\u001b[39m\u001b[38;5;241m/\u001b[39mpi)\u001b[38;5;241m*\u001b[39mtorch\u001b[38;5;241m.\u001b[39mcos(x[\u001b[38;5;241m.\u001b[39m\u001b[38;5;241m.\u001b[39m\u001b[38;5;241m.\u001b[39m,\u001b[38;5;241m0\u001b[39m])\u001b[38;5;241m+\u001b[39m\u001b[38;5;241m10\u001b[39m\n\u001b[0;32m      3\u001b[0m rosenbrock \u001b[38;5;241m=\u001b[39m \u001b[38;5;28;01mlambda\u001b[39;00m x: \u001b[38;5;241m100\u001b[39m\u001b[38;5;241m*\u001b[39m(x[\u001b[38;5;241m.\u001b[39m\u001b[38;5;241m.\u001b[39m\u001b[38;5;241m.\u001b[39m,\u001b[38;5;241m1\u001b[39m] \u001b[38;5;241m-\u001b[39m x[\u001b[38;5;241m.\u001b[39m\u001b[38;5;241m.\u001b[39m\u001b[38;5;241m.\u001b[39m,\u001b[38;5;241m0\u001b[39m]\u001b[38;5;241m*\u001b[39m\u001b[38;5;241m*\u001b[39m\u001b[38;5;241m2\u001b[39m)\u001b[38;5;241m*\u001b[39m\u001b[38;5;241m*\u001b[39m\u001b[38;5;241m2\u001b[39m \u001b[38;5;241m+\u001b[39m (x[\u001b[38;5;241m.\u001b[39m\u001b[38;5;241m.\u001b[39m\u001b[38;5;241m.\u001b[39m,\u001b[38;5;241m0\u001b[39m]\u001b[38;5;241m-\u001b[39m\u001b[38;5;241m1\u001b[39m)\u001b[38;5;241m*\u001b[39m\u001b[38;5;241m*\u001b[39m\u001b[38;5;241m2\u001b[39m\n\u001b[0;32m      5\u001b[0m \u001b[38;5;66;03m# accepts tensor and int\u001b[39;00m\n",
      "\u001b[1;31mKeyboardInterrupt\u001b[0m: "
     ]
    }
   ],
   "source": [
    "# FIRST ORDER LINE SEARCH\n",
    "## 1 - first order line search\n",
    "\"\"\"\n",
    "find search direction using gradient\n",
    "find alpha step length using 3 different methods\n",
    "1. first wolfe\n",
    "2. full wolfe\n",
    "3. strong wolfe\n",
    "4. quadratic interpolation\n",
    "\"\"\"\n",
    "stop=0.0001\n",
    "def line_search(x_0, f, stop,a, type=\"firstwolfe\"):\n",
    "    iter=0\n",
    "    x = torch.tensor(x_0, dtype=torch.float32)\n",
    "    grad_norm=10\n",
    "    \n",
    "    while grad_norm>stop:\n",
    "        grad = jacobian(f,x)\n",
    "        grad_norm=torch.norm(grad)\n",
    "        \n",
    "        #grad = grad.numpy(), to nparray\n",
    "        pk = -grad/grad_norm\n",
    "        a = backtrack(x, f,grad,pk,a, type)\n",
    "        #print(pk,a)\n",
    "        x=x+pk*a\n",
    "        iter+=1\n",
    "        if iter%500==0:\n",
    "            print(iter, a)\n",
    "            print(iter, grad)\n",
    "            print(iter, grad_norm)\n",
    "    print(iter)\n",
    "    print(f'minimizer: {x}')\n",
    "    print(f'function value: {f(x)}')\n",
    "        \n",
    "line_search([6,10], BraninHoo, stop,1)\n",
    "line_search([6,10], BraninHoo, stop,1, \"fullwolfe\")\n",
    "line_search([6,10], BraninHoo, stop,1, \"strongwolfe\")"
   ]
  },
  {
   "cell_type": "code",
   "execution_count": 3,
   "id": "a7e527f2-56fe-495a-9029-c34597f64d7e",
   "metadata": {
    "collapsed": true,
    "jupyter": {
     "outputs_hidden": true,
     "source_hidden": true
    },
    "tags": []
   },
   "outputs": [
    {
     "data": {
      "text/plain": [
       "'\\nfunctions needed:\\n* backtrack(x,function, search direction, criteria) return alpha\\n* search direction (function, type) return search direction\\n* trust region (region size, x, function, type) return next point\\n* taylor approximation\\n* along the way save norm of gradient and alpha\\n* at the end show minimizer, minumum, and # of function and gradient evalution\\n'"
      ]
     },
     "execution_count": 3,
     "metadata": {},
     "output_type": "execute_result"
    }
   ],
   "source": [
    "# plan of attack\n",
    "# 1 - search direction\n",
    "# 2 - find steplength\n",
    "\n",
    "## for each method \n",
    "# report gradiant and step length at each iteration and plot\n",
    "#report ; minimizer, minimum, # of function and gradient evaluation, & interpret results\n",
    "\n",
    "## 1 - first order line search\n",
    "\"\"\"\n",
    "find search direction using gradient\n",
    "find alpha step length using 3 different methods\n",
    "1. first wolfe\n",
    "2. full wolfe\n",
    "3. strong wolfe\n",
    "4. quadratic interpolation\n",
    "\"\"\"\n",
    "\n",
    "## 2 - newton and quasi newton\n",
    "\"\"\"\n",
    "find newton search direction \n",
    "    and quasi newton \n",
    "find alpha step length using strong wolfe\n",
    "\"\"\"\n",
    "\n",
    "## 3 - trust region\n",
    "\"\"\"\n",
    "first order taylor appr, alpha is edge of trust region\n",
    "second order taylor appr, alpha is min of mk\n",
    "\"\"\"\n",
    "\n",
    "\"\"\"\n",
    "functions needed:\n",
    "* backtrack(x,function, search direction, criteria) return alpha\n",
    "* search direction (function, type) return search direction\n",
    "* trust region (region size, x, function, type) return next point\n",
    "* taylor approximation\n",
    "* along the way save norm of gradient and alpha\n",
    "* at the end show minimizer, minumum, and # of function and gradient evalution\n",
    "\"\"\"\n",
    "\n",
    "\n",
    "\n"
   ]
  },
  {
   "cell_type": "code",
   "execution_count": 4,
   "id": "0efca815-fbfb-44be-b1fa-6c2d456a88b1",
   "metadata": {
    "jupyter": {
     "source_hidden": true
    },
    "tags": []
   },
   "outputs": [
    {
     "ename": "SyntaxError",
     "evalue": "invalid syntax (1385914922.py, line 52)",
     "output_type": "error",
     "traceback": [
      "\u001b[1;36m  Input \u001b[1;32mIn [4]\u001b[1;36m\u001b[0m\n\u001b[1;33m    yk=\u001b[0m\n\u001b[1;37m       ^\u001b[0m\n\u001b[1;31mSyntaxError\u001b[0m\u001b[1;31m:\u001b[0m invalid syntax\n"
     ]
    }
   ],
   "source": [
    "gradient_stop = 0.00001\n",
    "\n",
    "\n",
    "def PK(f,x, type=\"steepest_descent\"):\n",
    "    # steepest descent\n",
    "    # newton\n",
    "    # quasi newton\n",
    "    grad = jacobian(f,x)\n",
    "    if type == \"steepest_descent\":\n",
    "        \n",
    "        pk=-grad/norm(grad)\n",
    "        \n",
    "    elif type ==\"newton\":\n",
    "        \n",
    "        hess = hessian(f,x)\n",
    "        pk= - torch.dot(inv(hess),grad)\n",
    "    elif type == \"quasi_newton\":\n",
    "        #yk = grad(k+1)-grad(k)\n",
    "        #sk = x(k+1)-x(k)\n",
    "        yk = grad\n",
    "        sk = \n",
    "        Hk = Hk - \n",
    "        pk= - torch.dot(Bk_inv,grad)\n",
    "        \n",
    "    else:print(\"wrong type for search direction\")\n",
    "    \n",
    "    return pk\n",
    "\n",
    "def trust_region(x, f, region_size, type=\"1st\"):\n",
    "    # define a grid of circular point around x\n",
    "    \n",
    "    grad = jacobian(f,x)\n",
    "    f(x)+tensor.dot(\n",
    "    if type ==\"1st\":\n",
    "        \n",
    "    elif type == \"2nd\":\n",
    "        hess = hessian(f,x)\n",
    "        \n",
    "    else: print(\"wrong type\")\n",
    "    \n",
    "    n1=.25\n",
    "    n2=.75\n",
    "    \n",
    "    return next_x"
   ]
  },
  {
   "cell_type": "code",
   "execution_count": 82,
   "id": "5e40e26b-13b2-4697-9bdc-afede89ddce9",
   "metadata": {},
   "outputs": [
    {
     "name": "stdout",
     "output_type": "stream",
     "text": [
      "tensor([[[ 3,  4],\n",
      "         [15, 24]],\n",
      "\n",
      "        [[ 1,  4],\n",
      "         [ 9, 16]]])\n",
      "tensor([[ 3,  4],\n",
      "        [15, 24]])\n",
      "tensor([[18, 28],\n",
      "        [10, 20]])\n",
      "tensor([[ 7, 39],\n",
      "        [ 5, 25]])\n",
      "tensor([46, 30])\n",
      "tensor([46, 30])\n"
     ]
    }
   ],
   "source": [
    "x=torch.tensor([[1,2],[3,4]])\n",
    "y=torch.tensor([[[3,2],[5,6]],[[1,2],[3,4]]])\n",
    "#print(x)\n",
    "#print(y)\n",
    "\n",
    "\n",
    "xy=x*y\n",
    "print(xy)\n",
    "print(xy[0])\n",
    "print(torch.sum(xy,1))\n",
    "print(torch.sum(xy,2))\n",
    "\n",
    "print(torch.sum(xy,[1,2]))\n",
    "print(torch.sum(xy,[2,1]))\n",
    "#print(sum(sum(x*y)))\n",
    "\n",
    "# look into numpy\n",
    "# leave trust region last \n",
    "# incorporate results publish"
   ]
  },
  {
   "cell_type": "code",
   "execution_count": null,
   "id": "28b694b1-4764-4065-99f7-6b9a09f8003b",
   "metadata": {},
   "outputs": [],
   "source": [
    "x=torch.tensor([1,2])\n",
    "r=3\n",
    "grid=.1\n"
   ]
  }
 ],
 "metadata": {
  "kernelspec": {
   "display_name": "Python 3 (ipykernel)",
   "language": "python",
   "name": "python3"
  },
  "language_info": {
   "codemirror_mode": {
    "name": "ipython",
    "version": 3
   },
   "file_extension": ".py",
   "mimetype": "text/x-python",
   "name": "python",
   "nbconvert_exporter": "python",
   "pygments_lexer": "ipython3",
   "version": "3.9.12"
  }
 },
 "nbformat": 4,
 "nbformat_minor": 5
}
