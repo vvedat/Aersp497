{
 "cells": [
  {
   "cell_type": "code",
   "execution_count": 1,
   "id": "7d6a5c03",
   "metadata": {},
   "outputs": [],
   "source": [
    "import math\n",
    "import numpy as np\n",
    "from numpy import linalg\n",
    "\n",
    "#import jax\n",
    "import torch\n",
    "from torch import tensor\n",
    "from torch.autograd.functional import jacobian, hessian\n",
    "\n",
    "pi=math.pi"
   ]
  },
  {
   "cell_type": "code",
   "execution_count": 2,
   "id": "f1ab4bd8",
   "metadata": {},
   "outputs": [],
   "source": [
    "BraninHoo = lambda x: (x[...,1] - (5.1*x[...,0]**2/4/pi/pi) +(5*x[...,0]/pi)-6)**2 + (10-10/8/pi)*torch.cos(x[...,0])+10\n",
    "rosenbrock = lambda x: 100*(x[...,1] - x[...,0]**2)**2 + (x[...,0]-1)**2"
   ]
  },
  {
   "cell_type": "code",
   "execution_count": 3,
   "id": "6dd1daf0",
   "metadata": {},
   "outputs": [],
   "source": [
    "def Branin(x0,x1):\n",
    "    return (x1 - (5.1*x0**2/4/pi/pi) +(5*x0/pi)-6)**2 + (10-10/8/pi)*np.cos(x0)+10\n",
    "\n",
    "def rosen(x0,x1):\n",
    "    return 100*(x1 - x0**2)**2 + (x0-1)**2"
   ]
  },
  {
   "cell_type": "code",
   "execution_count": 8,
   "id": "364249e3",
   "metadata": {},
   "outputs": [],
   "source": [
    "# TAYLOR MODEL PLOTTING\n",
    "# TAYLOR EXPENSION\n",
    "# f(x+pk) = f(x) + hessian_f(x)T*pk +0.5 pk^T hessian_f^2(x)*pk\n",
    "def taylor_appr(function, x, pk, order=1):\n",
    "    # calculate hessian, gk\n",
    "    gk = hessian()\n",
    "    # calculate hessian^2, Bk\n",
    "    Bk = hessian()\n",
    "    \n",
    "    appr = function(x)+ gk.dot(pk) \n",
    "    if (order ==2):\n",
    "        pkBk = pk.dot(Bk)\n",
    "        appr += 0.5*pkBk.dot(pk)\n",
    "        \n",
    "    return appr\n",
    "\n",
    "def grad(x, f, order=1):\n",
    "    if type(x)!= torch.tensor:#isinstance(x, np.array):\n",
    "        x = torch.tensor(x, dtype=torch.float32)\n",
    "    if order==1:\n",
    "        return jacobian(f,x)\n",
    "    elif order==2:\n",
    "        return hessian(f,x)\n",
    "    else: return 0\n",
    "\n",
    "def backtrack(f,x, pk, c1=.5):\n",
    "    # function, [x0,x1], gradient, search direction, c1\n",
    "    alpha = 5\n",
    "    rho=0.9\n",
    "    #x_ = torch.tensor(x, dtype=torch.float32)\n",
    "    grad = jacobian(f,x)\n",
    "    \"\"\"\n",
    "    print(f'x: {x}')\n",
    "    print(f'pk: {pk}')\n",
    "    print(f'f at x_k+1: {f(x_+alpha*pk)}')\n",
    "    print(f'x point at x_k+1: {x_+alpha*pk}')\n",
    "    \n",
    "    print(f'f  taylor appr: {f(x_)+c1*alpha*grad*pk}')\n",
    "    print(f'f  at x: {f(x_)}')\n",
    "    print(f'f  taylor appr slope: {c1*alpha*grad*pk}')\n",
    "    \n",
    "    print(' ')\n",
    "    print(f'grad  {grad}')\n",
    "    print(f'pk: {pk}')\n",
    "    print(f'grad*pk  {grad*pk}')\n",
    "    \n",
    "    print(' ')\n",
    "    print(f'grad*pk  {grad.dot(pk)}')\n",
    "    print(f'pk*grad: {pk.dot(grad)}')\n",
    "    \"\"\"\n",
    "    while (f(x+alpha*pk)>= f(x)+c1*alpha*grad.dot(pk)):\n",
    "        alpha = alpha* rho\n",
    "    return alpha\n",
    "\n"
   ]
  },
  {
   "cell_type": "code",
   "execution_count": 9,
   "id": "e278def7",
   "metadata": {
    "tags": []
   },
   "outputs": [
    {
     "name": "stdout",
     "output_type": "stream",
     "text": [
      "tensor([17.4365, 27.4563])\n",
      "tensor([ 5.2088, 12.9479])\n",
      "tensor([-0.6434,  1.8175])\n",
      "tensor([-11.9864,  -3.6855])\n",
      "tensor([ 0.5519, -0.9372])\n",
      "tensor([-0.8783, -0.6188])\n",
      "tensor([ 0.2196, -0.3482])\n",
      "tensor([-0.3187, -0.2445])\n",
      "tensor([ 0.0651, -0.1461])\n",
      "tensor([-0.1307, -0.0679])\n",
      "tensor([ 0.0128, -0.0358])\n",
      "tensor([-0.0262, -0.0114])\n",
      "tensor([ 0.0001, -0.0059])\n",
      "min foundtensor([3.1420, 2.2745])\n",
      "gradient norm: 0.003953374456614256\n"
     ]
    },
    {
     "name": "stderr",
     "output_type": "stream",
     "text": [
      "C:\\Users\\vedat\\AppData\\Local\\Temp\\ipykernel_24216\\3295788867.py:19: UserWarning: To copy construct from a tensor, it is recommended to use sourceTensor.clone().detach() or sourceTensor.clone().detach().requires_grad_(True), rather than torch.tensor(sourceTensor).\n",
      "  x = torch.tensor(x, dtype=torch.float32)\n"
     ]
    }
   ],
   "source": [
    "\n",
    "#x=[1,2]\n",
    "#x=[1,2]\n",
    "x=[5,15]\n",
    "x = torch.tensor(x, dtype=torch.float32)\n",
    "delta = .005 \n",
    "gradient=grad(x,BraninHoo)\n",
    "grad_norm = linalg.norm(gradient, np.inf)\n",
    "\n",
    "while (grad_norm >=delta):\n",
    "    # gradient calculations\n",
    "    grad(x, BraninHoo)\n",
    "    print(gradient)\n",
    "    pk = -(gradient/grad_norm)\n",
    "    \n",
    "    # backtracting\n",
    "    alpha = backtrack(BraninHoo, x, pk)\n",
    "    x=x+pk*alpha\n",
    "    gradient=grad(x,BraninHoo)\n",
    "    grad_norm = linalg.norm(gradient, np.inf)\n",
    "    \n",
    "print(f'min found{x}')\n",
    "print(f'gradient norm: {grad_norm}')\n",
    "    \n",
    "    \n",
    "    \n",
    "    #[x,f,jacobs,iteration]# return min x_star, function values at x, array of gradient norms, iterations it took"
   ]
  },
  {
   "cell_type": "code",
   "execution_count": 10,
   "id": "a37bcc95",
   "metadata": {
    "scrolled": true
   },
   "outputs": [],
   "source": [
    "# subtrack a vector from a list of vectors\n",
    "# do grid point - x_not\n",
    "x=[6,10]\n",
    "grid_size=10\n",
    "x1=np.linspace(-5,10,grid_size)\n",
    "x2=np.linspace(0,15,grid_size)\n",
    "x1=x1-x[0]\n",
    "x2 = x2-x[1]\n",
    "X1, X2 = np.meshgrid(x1,x2)\n",
    "ii=0\n",
    "\n",
    "grid = torch.zeros(grid_size, grid_size, 2)\n",
    "for i in x1:\n",
    "    jj=0\n",
    "    for j in x2: \n",
    "        grid[ii][jj] = torch.tensor([i,j])\n",
    "        jj+=1\n",
    "    ii+=1"
   ]
  },
  {
   "cell_type": "code",
   "execution_count": 35,
   "id": "cea3707c-80b9-4b1f-a161-dc06c936ec7c",
   "metadata": {},
   "outputs": [
    {
     "data": {
      "text/plain": [
       "array([[-117.,  149.,    0.,    0.,    0.,    0.,    0.,    0.,    0.,\n",
       "           0.],\n",
       "       [   0.,  155.,    0.,    0.,    0.,    0.,    0.,    0.,    0.,\n",
       "           0.],\n",
       "       [   0.,    0.,    0.,    0.,    0.,    0.,    0.,    0.,    0.,\n",
       "           0.],\n",
       "       [   0.,    0.,    0.,    0.,    0.,    0.,    0.,    0.,    0.,\n",
       "           0.],\n",
       "       [   0.,    0.,    0.,    0.,    0.,    0.,    0.,    0.,    0.,\n",
       "           0.],\n",
       "       [   0.,    0.,    0.,    0.,    0.,    0.,    0.,    0.,    0.,\n",
       "           0.],\n",
       "       [   0.,    0.,    0.,    0.,    0.,    0.,    0.,    0.,    0.,\n",
       "           0.],\n",
       "       [   0.,    0.,    0.,    0.,    0.,    0.,    0.,    0.,    0.,\n",
       "           0.],\n",
       "       [   0.,    0.,    0.,    0.,    0.,    0.,    0.,    0.,    0.,\n",
       "           0.],\n",
       "       [   0.,    0.,    0.,    0.,    0.,    0.,    0.,    0.,    0.,\n",
       "           0.]])"
      ]
     },
     "execution_count": 35,
     "metadata": {},
     "output_type": "execute_result"
    }
   ],
   "source": [
    "y1=np.linspace(-5,10,10)\n",
    "y2=np.linspace(0,15,10)\n",
    "Y1, Y2 = np.meshgrid(y1,y2)\n",
    "\n",
    "# plot taylor model\n",
    "# single point ref\n",
    "# array of grid points\n",
    "\n",
    "x=[6,10]\n",
    "fk=Branin(x[0],x[1])\n",
    "#first order\n",
    "gk=grad(x, BraninHoo, 1)\n",
    "ii=0\n",
    "jj=0\n",
    "taylor = np.zeros([10,10])\n",
    "\n",
    "for i in grid:\n",
    "    for j in grid[ii]:\n",
    "        taylor[ii][jj]=int(fk+gk.dot(j))\n",
    "        jj=+1\n",
    "    ii=+1\n",
    " \n",
    "#second order\n",
    "Bk=grad(x, BraninHoo, 2)\n",
    "taylor"
   ]
  },
  {
   "cell_type": "code",
   "execution_count": 32,
   "id": "f5254fe8-626f-4746-8f38-2fe98c375fa8",
   "metadata": {
    "collapsed": true,
    "jupyter": {
     "outputs_hidden": true
    },
    "tags": []
   },
   "outputs": [
    {
     "name": "stdout",
     "output_type": "stream",
     "text": [
      "tensor([-11., -10.])\n",
      "tensor([-11.0000,  -8.3333])\n",
      "tensor([-11.0000,  -6.6667])\n",
      "tensor([-11.,  -5.])\n",
      "tensor([-11.0000,  -3.3333])\n",
      "tensor([-11.0000,  -1.6667])\n",
      "tensor([-11.,   0.])\n",
      "tensor([-11.0000,   1.6667])\n",
      "tensor([-11.0000,   3.3333])\n",
      "tensor([-11.,   5.])\n",
      "tensor([ -9.3333, -10.0000])\n",
      "tensor([-9.3333, -8.3333])\n",
      "tensor([-9.3333, -6.6667])\n",
      "tensor([-9.3333, -5.0000])\n",
      "tensor([-9.3333, -3.3333])\n",
      "tensor([-9.3333, -1.6667])\n",
      "tensor([-9.3333,  0.0000])\n",
      "tensor([-9.3333,  1.6667])\n",
      "tensor([-9.3333,  3.3333])\n",
      "tensor([-9.3333,  5.0000])\n",
      "tensor([ -9.3333, -10.0000])\n",
      "tensor([-9.3333, -8.3333])\n",
      "tensor([-9.3333, -6.6667])\n",
      "tensor([-9.3333, -5.0000])\n",
      "tensor([-9.3333, -3.3333])\n",
      "tensor([-9.3333, -1.6667])\n",
      "tensor([-9.3333,  0.0000])\n",
      "tensor([-9.3333,  1.6667])\n",
      "tensor([-9.3333,  3.3333])\n",
      "tensor([-9.3333,  5.0000])\n",
      "tensor([ -9.3333, -10.0000])\n",
      "tensor([-9.3333, -8.3333])\n",
      "tensor([-9.3333, -6.6667])\n",
      "tensor([-9.3333, -5.0000])\n",
      "tensor([-9.3333, -3.3333])\n",
      "tensor([-9.3333, -1.6667])\n",
      "tensor([-9.3333,  0.0000])\n",
      "tensor([-9.3333,  1.6667])\n",
      "tensor([-9.3333,  3.3333])\n",
      "tensor([-9.3333,  5.0000])\n",
      "tensor([ -9.3333, -10.0000])\n",
      "tensor([-9.3333, -8.3333])\n",
      "tensor([-9.3333, -6.6667])\n",
      "tensor([-9.3333, -5.0000])\n",
      "tensor([-9.3333, -3.3333])\n",
      "tensor([-9.3333, -1.6667])\n",
      "tensor([-9.3333,  0.0000])\n",
      "tensor([-9.3333,  1.6667])\n",
      "tensor([-9.3333,  3.3333])\n",
      "tensor([-9.3333,  5.0000])\n",
      "tensor([ -9.3333, -10.0000])\n",
      "tensor([-9.3333, -8.3333])\n",
      "tensor([-9.3333, -6.6667])\n",
      "tensor([-9.3333, -5.0000])\n",
      "tensor([-9.3333, -3.3333])\n",
      "tensor([-9.3333, -1.6667])\n",
      "tensor([-9.3333,  0.0000])\n",
      "tensor([-9.3333,  1.6667])\n",
      "tensor([-9.3333,  3.3333])\n",
      "tensor([-9.3333,  5.0000])\n",
      "tensor([ -9.3333, -10.0000])\n",
      "tensor([-9.3333, -8.3333])\n",
      "tensor([-9.3333, -6.6667])\n",
      "tensor([-9.3333, -5.0000])\n",
      "tensor([-9.3333, -3.3333])\n",
      "tensor([-9.3333, -1.6667])\n",
      "tensor([-9.3333,  0.0000])\n",
      "tensor([-9.3333,  1.6667])\n",
      "tensor([-9.3333,  3.3333])\n",
      "tensor([-9.3333,  5.0000])\n",
      "tensor([ -9.3333, -10.0000])\n",
      "tensor([-9.3333, -8.3333])\n",
      "tensor([-9.3333, -6.6667])\n",
      "tensor([-9.3333, -5.0000])\n",
      "tensor([-9.3333, -3.3333])\n",
      "tensor([-9.3333, -1.6667])\n",
      "tensor([-9.3333,  0.0000])\n",
      "tensor([-9.3333,  1.6667])\n",
      "tensor([-9.3333,  3.3333])\n",
      "tensor([-9.3333,  5.0000])\n",
      "tensor([ -9.3333, -10.0000])\n",
      "tensor([-9.3333, -8.3333])\n",
      "tensor([-9.3333, -6.6667])\n",
      "tensor([-9.3333, -5.0000])\n",
      "tensor([-9.3333, -3.3333])\n",
      "tensor([-9.3333, -1.6667])\n",
      "tensor([-9.3333,  0.0000])\n",
      "tensor([-9.3333,  1.6667])\n",
      "tensor([-9.3333,  3.3333])\n",
      "tensor([-9.3333,  5.0000])\n",
      "tensor([ -9.3333, -10.0000])\n",
      "tensor([-9.3333, -8.3333])\n",
      "tensor([-9.3333, -6.6667])\n",
      "tensor([-9.3333, -5.0000])\n",
      "tensor([-9.3333, -3.3333])\n",
      "tensor([-9.3333, -1.6667])\n",
      "tensor([-9.3333,  0.0000])\n",
      "tensor([-9.3333,  1.6667])\n",
      "tensor([-9.3333,  3.3333])\n",
      "tensor([-9.3333,  5.0000])\n"
     ]
    }
   ],
   "source": [
    "ii=0\n",
    "for i in grid:\n",
    "    for j in grid[ii]:\n",
    "        print(j)\n",
    "    ii=+1\n",
    "    "
   ]
  },
  {
   "cell_type": "code",
   "execution_count": 1,
   "id": "260546d1-6ba5-4620-abcd-889c8527dbb1",
   "metadata": {},
   "outputs": [],
   "source": [
    "from mpl_toolkits import mplot3d\n",
    "import matplotlib.pyplot as plt\n"
   ]
  },
  {
   "cell_type": "code",
   "execution_count": 3,
   "id": "41878a89-37fb-481d-83bd-bbc5cb475852",
   "metadata": {},
   "outputs": [
    {
     "ename": "NameError",
     "evalue": "name 'np' is not defined",
     "output_type": "error",
     "traceback": [
      "\u001b[1;31m---------------------------------------------------------------------------\u001b[0m",
      "\u001b[1;31mNameError\u001b[0m                                 Traceback (most recent call last)",
      "Input \u001b[1;32mIn [3]\u001b[0m, in \u001b[0;36m<cell line: 3>\u001b[1;34m()\u001b[0m\n\u001b[0;32m      1\u001b[0m fig, ax \u001b[38;5;241m=\u001b[39m plt\u001b[38;5;241m.\u001b[39msubplots(\u001b[38;5;241m1\u001b[39m, \u001b[38;5;241m1\u001b[39m)\n\u001b[0;32m      2\u001b[0m \u001b[38;5;66;03m#ax.grid()\u001b[39;00m\n\u001b[1;32m----> 3\u001b[0m x1\u001b[38;5;241m=\u001b[39m\u001b[43mnp\u001b[49m\u001b[38;5;241m.\u001b[39mlinspace(\u001b[38;5;241m-\u001b[39m\u001b[38;5;241m5\u001b[39m,\u001b[38;5;241m10\u001b[39m,\u001b[38;5;241m10\u001b[39m)\n\u001b[0;32m      4\u001b[0m x2\u001b[38;5;241m=\u001b[39mnp\u001b[38;5;241m.\u001b[39mlinspace(\u001b[38;5;241m0\u001b[39m,\u001b[38;5;241m15\u001b[39m,\u001b[38;5;241m10\u001b[39m)\n\u001b[0;32m      5\u001b[0m X1, X2 \u001b[38;5;241m=\u001b[39m np\u001b[38;5;241m.\u001b[39mmeshgrid(x1,x2)\n",
      "\u001b[1;31mNameError\u001b[0m: name 'np' is not defined"
     ]
    },
    {
     "data": {
      "image/png": "[encoded data removed]",
      "text/plain": [
       "<Figure size 432x288 with 1 Axes>"
      ]
     },
     "metadata": {
      "needs_background": "light"
     },
     "output_type": "display_data"
    }
   ],
   "source": [
    "fig, ax = plt.subplots(1, 1)\n",
    "#ax.grid()\n",
    "x1=np.linspace(-5,10,10)\n",
    "x2=np.linspace(0,15,10)\n",
    "X1, X2 = np.meshgrid(x1,x2)\n"
   ]
  },
  {
   "cell_type": "code",
   "execution_count": 36,
   "id": "ceb1d5f9",
   "metadata": {
    "tags": []
   },
   "outputs": [
    {
     "name": "stdout",
     "output_type": "stream",
     "text": [
      "[[308.12909601 162.89542418  90.2866907   55.60211264  22.81724065\n",
      "    5.11168719  14.3413983   20.18431209   8.48953212  10.96088904]\n",
      " [253.61567418 123.20470795  63.02637433  38.37989042  13.24080685\n",
      "    0.78873608  12.87962416  19.1914092    5.57319475   3.72881146]\n",
      " [204.6578079   89.06954726  41.32161352  26.71322375   9.2199286\n",
      "    2.02134053  16.97340558  23.75406186   8.21241294   2.05228945]\n",
      " [161.25549718  60.48994214  25.17240826  20.60211264  10.75460591\n",
      "    8.80950054  26.62274256  33.87227009  16.40718668   5.93132298]\n",
      " [123.40874201  37.46589257  14.57875856  20.04655709  17.84483877\n",
      "   21.1532161   41.82763509  49.54603386  30.15751598  15.36591208]\n",
      " [ 91.1175424   19.99739855   9.54066442  25.04655709  30.49062719\n",
      "   39.05248721  62.58808317  70.77535319  49.46340083  30.35605673]\n",
      " [ 64.38189835   8.08446009  10.05812583  35.60211264  48.69197117\n",
      "   62.50731389  88.90408682  97.56022808  74.32484124  50.90175693]\n",
      " [ 43.20180985   1.72707719  16.13114279  51.71322375  72.4488707\n",
      "   91.51769611 120.77564601 129.90065853 104.74183721  77.00301269]\n",
      " [ 27.5772769    0.92524984  27.75971531  73.37989042 101.76132579\n",
      "  126.0836339  158.20276077 167.79664453 140.71438873 108.65982401]\n",
      " [ 17.50829952   5.67897804  44.94384339 100.60211264 136.62933643\n",
      "  166.20512723 201.18543108 211.24818608 182.2424958  145.87219088]]\n"
     ]
    },
    {
     "data": {
      "image/png": "[encoded data removed]",
      "text/plain": [
       "<Figure size 432x288 with 1 Axes>"
      ]
     },
     "metadata": {
      "needs_background": "light"
     },
     "output_type": "display_data"
    }
   ],
   "source": [
    "\n",
    "#fig = plt.figure(figsize = (20,20))\n",
    "#ax = plt.axes(projection ='3d')\n",
    "fig, ax = plt.subplots(1, 1)\n",
    "#ax.grid()\n",
    "#range(start, stop, step) wants integer input\n",
    "#np.linspace(start, end, number of points between)\n",
    "x1=np.linspace(-5,10,10)\n",
    "x2=np.linspace(0,15,10)\n",
    "X1, X2 = np.meshgrid(x1,x2)\n",
    "\n",
    "# plot taylor model\n",
    "# single point ref\n",
    "# array of grid points\n",
    "\"\"\"\n",
    "x=[6,10]\n",
    "fk=BraninHoo(x)\n",
    "#first order\n",
    "gk=grad(x, Branin, 1)\n",
    "#fk+gk.dot(grid)\n",
    "#second order\n",
    "Bk=grad(x, Branin, 2)\n",
    "\"\"\"\n",
    "\n",
    "#X = torch.tensor([X1,X2], dtype=torch.float32)\n",
    "#X2 = torch.tensor(X2, dtype=torch.float32)\n",
    "#print(X1)\n",
    "X3=Branin(X1,X2)\n",
    "\n",
    "print(X3)\n",
    "ax.contour(X1, X2, X3,20)\n",
    "ax.contour(X1, X2, taylor,20)\n",
    "#surf = ax.plot_surface(X1, X2, X3, cmap = plt.cm.cividis)\n",
    "#circle=np.linspace(0,2*pi,50)\n",
    "    \n",
    "\"\"\"\n",
    "r=3\n",
    "x_center=[6,10]\n",
    "x_c = x_center[0]+np.linspace(-r,r,20)\n",
    "y_c = x_center[1]+np.linspace(-r,r,20)\n",
    "\n",
    "            \n",
    "ax.plot(x_c,y_c)\n",
    "ax.set_title('Branin Hoo')\n",
    "\n",
    "##\n",
    "X_c, Y_c = np.meshgrid(x_c,y_c)\n",
    "XX3 = grad(X_c,BraninHoo, 2)\n",
    "ax.contour(X_c, Y_c, XX3,5)\n",
    "\"\"\"\n",
    "# Set axes label\n",
    "ax.set_xlabel('x1', labelpad=20)\n",
    "ax.set_ylabel('x2', labelpad=20)\n",
    "#ax.set_zlabel('x3', labelpad=20)\n",
    "\n",
    "#fig.colorbar(surf, shrink=0.5, aspect=8)\n",
    "\n",
    "plt.show()"
   ]
  },
  {
   "cell_type": "code",
   "execution_count": 1,
   "id": "5189713a",
   "metadata": {},
   "outputs": [
    {
     "ename": "NameError",
     "evalue": "name 'plt' is not defined",
     "output_type": "error",
     "traceback": [
      "\u001b[1;31m---------------------------------------------------------------------------\u001b[0m",
      "\u001b[1;31mNameError\u001b[0m                                 Traceback (most recent call last)",
      "Input \u001b[1;32mIn [1]\u001b[0m, in \u001b[0;36m<cell line: 1>\u001b[1;34m()\u001b[0m\n\u001b[1;32m----> 1\u001b[0m fig \u001b[38;5;241m=\u001b[39m \u001b[43mplt\u001b[49m\u001b[38;5;241m.\u001b[39mfigure(figsize \u001b[38;5;241m=\u001b[39m (\u001b[38;5;241m20\u001b[39m,\u001b[38;5;241m20\u001b[39m))\n\u001b[0;32m      2\u001b[0m ax \u001b[38;5;241m=\u001b[39m plt\u001b[38;5;241m.\u001b[39maxes(projection \u001b[38;5;241m=\u001b[39m\u001b[38;5;124m'\u001b[39m\u001b[38;5;124m3d\u001b[39m\u001b[38;5;124m'\u001b[39m)\n\u001b[0;32m      3\u001b[0m \u001b[38;5;66;03m#fig, ax = plt.subplots(1, 1)\u001b[39;00m\n",
      "\u001b[1;31mNameError\u001b[0m: name 'plt' is not defined"
     ]
    }
   ],
   "source": [
    "fig = plt.figure(figsize = (20,20))\n",
    "ax = plt.axes(projection ='3d')\n",
    "#fig, ax = plt.subplots(1, 1)\n",
    "ax.grid()\n",
    "\n",
    "#range(start, stop, step) wants integer input\n",
    "#np.linspace(start, end, number of points between)\n",
    "x1=np.linspace(-5,10,50)\n",
    "x2=np.linspace(-5,10,50)\n",
    "X1, X2 = np.meshgrid(x1,x2)\n",
    "X3=rosenbrock(X1,X2)\n",
    "\n",
    "#ax.contour(X1, X2, X3,20)\n",
    "surf = ax.plot_surface(X1, X2, X3, cmap = plt.cm.cividis)\n",
    "ax.set_title('Rosenbrock')\n",
    "\n",
    "# Set axes label\n",
    "ax.set_xlabel('x1', labelpad=20)\n",
    "ax.set_ylabel('x2', labelpad=20)\n",
    "ax.set_zlabel('x3', labelpad=20)\n",
    "\n",
    "fig.colorbar(surf, shrink=0.5, aspect=8)\n",
    "\n",
    "plt.show()"
   ]
  },
  {
   "cell_type": "code",
   "execution_count": null,
   "id": "fb7d3f3f",
   "metadata": {},
   "outputs": [],
   "source": []
  }
 ],
 "metadata": {
  "kernelspec": {
   "display_name": "Python 3 (ipykernel)",
   "language": "python",
   "name": "python3"
  },
  "language_info": {
   "codemirror_mode": {
    "name": "ipython",
    "version": 3
   },
   "file_extension": ".py",
   "mimetype": "text/x-python",
   "name": "python",
   "nbconvert_exporter": "python",
   "pygments_lexer": "ipython3",
   "version": "3.9.12"
  }
 },
 "nbformat": 4,
 "nbformat_minor": 5
}
